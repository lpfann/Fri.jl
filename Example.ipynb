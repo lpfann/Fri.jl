{
 "cells": [
  {
   "cell_type": "code",
   "execution_count": 10,
   "metadata": {
    "ExecuteTime": {
     "end_time": "2019-11-12T16:09:26.880000+01:00",
     "start_time": "2019-11-12T15:09:10.337Z"
    }
   },
   "outputs": [
    {
     "name": "stderr",
     "output_type": "stream",
     "text": [
      "┌ Info: Precompiling JuMP [4076af6c-e467-56ae-b986-b466b2749572]\n",
      "└ @ Base loading.jl:1273\n",
      "┌ Info: Precompiling ECOS [e2685f51-7e38-5353-a97d-a921fd2c8199]\n",
      "└ @ Base loading.jl:1273\n"
     ]
    },
    {
     "data": {
      "text/plain": [
       "Main.fri"
      ]
     },
     "execution_count": 10,
     "metadata": {},
     "output_type": "execute_result"
    }
   ],
   "source": [
    "include(\"fri/src/fri.jl\")"
   ]
  },
  {
   "cell_type": "markdown",
   "metadata": {
    "ExecuteTime": {
     "end_time": "2019-11-12T15:31:32.611000+01:00",
     "start_time": "2019-11-12T14:31:31.354Z"
    }
   },
   "source": [
    "Generate dataset with 200 samples, 5 strongly relevant features, 4 weakly relevant features and 10 noise features (irrelevant)."
   ]
  },
  {
   "cell_type": "code",
   "execution_count": 17,
   "metadata": {
    "ExecuteTime": {
     "end_time": "2019-11-12T16:10:14.595000+01:00",
     "start_time": "2019-11-12T15:10:14.588Z"
    }
   },
   "outputs": [],
   "source": [
    "X,y = Main.fri.dataset.generate(200,d_rel=5,d_irrel=10,d_weak=4);"
   ]
  },
  {
   "cell_type": "code",
   "execution_count": 18,
   "metadata": {
    "ExecuteTime": {
     "end_time": "2019-11-12T16:10:32.365000+01:00",
     "start_time": "2019-11-12T15:10:14.959Z"
    }
   },
   "outputs": [
    {
     "data": {
      "text/plain": [
       "17×2 Array{Float64,2}:\n",
       "  2.55727      2.55727  \n",
       "  2.01039      2.01039  \n",
       "  2.32116      2.32116  \n",
       "  2.09897      2.09897  \n",
       "  2.35608      2.35608  \n",
       " -3.85029e-12  2.22748  \n",
       " -3.8504e-12   2.22748  \n",
       "  0.0948441    0.0948441\n",
       "  0.100589     0.100589 \n",
       "  0.156153     0.156153 \n",
       "  0.0760626    0.0760626\n",
       "  0.11897      0.11897  \n",
       "  0.19504      0.19504  \n",
       "  0.09535      0.09535  \n",
       "  0.0669823    0.0669823\n",
       "  0.22617      0.22617  \n",
       "  0.0860516    0.0860516"
      ]
     },
     "execution_count": 18,
     "metadata": {},
     "output_type": "execute_result"
    }
   ],
   "source": [
    "relev_bounds = Main.fri.relevance_bounds(X,y)"
   ]
  },
  {
   "cell_type": "markdown",
   "metadata": {},
   "source": [
    "minimal relevance for feature 1"
   ]
  },
  {
   "cell_type": "code",
   "execution_count": 19,
   "metadata": {
    "ExecuteTime": {
     "end_time": "2019-11-12T16:10:53.916000+01:00",
     "start_time": "2019-11-12T15:10:53.604Z"
    }
   },
   "outputs": [
    {
     "data": {
      "text/plain": [
       "2.5572730462733446"
      ]
     },
     "execution_count": 19,
     "metadata": {},
     "output_type": "execute_result"
    }
   ],
   "source": [
    "relev_bounds[1,1]"
   ]
  },
  {
   "cell_type": "markdown",
   "metadata": {
    "ExecuteTime": {
     "end_time": "2019-11-12T16:11:05.208000+01:00",
     "start_time": "2019-11-12T15:11:05.134Z"
    }
   },
   "source": [
    "maximal relevance for feature 1"
   ]
  },
  {
   "cell_type": "code",
   "execution_count": 21,
   "metadata": {
    "ExecuteTime": {
     "end_time": "2019-11-12T16:11:09.347000+01:00",
     "start_time": "2019-11-12T15:11:09.341Z"
    }
   },
   "outputs": [
    {
     "data": {
      "text/plain": [
       "2.557273051045558"
      ]
     },
     "execution_count": 21,
     "metadata": {},
     "output_type": "execute_result"
    }
   ],
   "source": [
    "relev_bounds[1,2]"
   ]
  }
 ],
 "metadata": {
  "kernelspec": {
   "display_name": "Julia 1.3.0-rc4",
   "language": "julia",
   "name": "julia-1.3"
  },
  "language_info": {
   "file_extension": ".jl",
   "mimetype": "application/julia",
   "name": "julia",
   "version": "1.3.0"
  }
 },
 "nbformat": 4,
 "nbformat_minor": 2
}
