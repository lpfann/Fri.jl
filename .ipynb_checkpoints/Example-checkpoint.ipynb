{
 "cells": [
  {
   "cell_type": "code",
   "execution_count": 5,
   "metadata": {
    "ExecuteTime": {
     "end_time": "2019-11-27T11:04:01.125000+01:00",
     "start_time": "2019-11-27T10:03:53.108Z"
    }
   },
   "outputs": [
    {
     "data": {
      "text/plain": [
       "Main.Fri"
      ]
     },
     "execution_count": 5,
     "metadata": {},
     "output_type": "execute_result"
    }
   ],
   "source": [
    "include(\"src/Fri.jl\")"
   ]
  },
  {
   "cell_type": "markdown",
   "metadata": {
    "ExecuteTime": {
     "end_time": "2019-11-12T15:31:32.611000+01:00",
     "start_time": "2019-11-12T14:31:31.354Z"
    }
   },
   "source": [
    "Generate dataset with 200 samples, 5 strongly relevant features, 4 weakly relevant features and 10 noise features (irrelevant)."
   ]
  },
  {
   "cell_type": "code",
   "execution_count": 8,
   "metadata": {
    "ExecuteTime": {
     "end_time": "2019-11-27T11:04:21.131000+01:00",
     "start_time": "2019-11-27T10:04:20.192Z"
    }
   },
   "outputs": [],
   "source": [
    "X,y = Main.Fri.dataset.generate(200,d_rel=5,d_irrel=10,d_weak=4);"
   ]
  },
  {
   "cell_type": "code",
   "execution_count": 10,
   "metadata": {
    "ExecuteTime": {
     "end_time": "2019-11-27T11:04:45.517000+01:00",
     "start_time": "2019-11-27T10:04:24.947Z"
    }
   },
   "outputs": [
    {
     "data": {
      "text/plain": [
       "17×2 Array{Float64,2}:\n",
       "  2.01919      2.01919    \n",
       "  1.94207      1.94207    \n",
       "  2.16584      2.16584    \n",
       "  2.29         2.29       \n",
       "  1.96213      1.96213    \n",
       "  8.95323e-13  2.07249    \n",
       "  8.9519e-13   2.07249    \n",
       " -8.27853e-12  4.19412e-11\n",
       "  0.0805522    0.0805522  \n",
       "  0.191517     0.191517   \n",
       " -1.24643e-11  7.10425e-11\n",
       "  0.259876     0.259876   \n",
       "  0.247302     0.247302   \n",
       "  0.255923     0.255923   \n",
       " -1.1843e-11   5.96759e-11\n",
       " -1.11331e-11  6.58113e-11\n",
       "  0.252132     0.252132   "
      ]
     },
     "execution_count": 10,
     "metadata": {},
     "output_type": "execute_result"
    }
   ],
   "source": [
    "relev_bounds = Main.Fri.relevance_bounds(X,y)"
   ]
  },
  {
   "cell_type": "markdown",
   "metadata": {},
   "source": [
    "minimal relevance for feature 1"
   ]
  },
  {
   "cell_type": "code",
   "execution_count": 11,
   "metadata": {
    "ExecuteTime": {
     "end_time": "2019-11-27T11:04:47.903000+01:00",
     "start_time": "2019-11-27T10:04:47.588Z"
    }
   },
   "outputs": [
    {
     "data": {
      "text/plain": [
       "2.01919226931274"
      ]
     },
     "execution_count": 11,
     "metadata": {},
     "output_type": "execute_result"
    }
   ],
   "source": [
    "relev_bounds[1,1]"
   ]
  },
  {
   "cell_type": "markdown",
   "metadata": {
    "ExecuteTime": {
     "end_time": "2019-11-12T16:11:05.208000+01:00",
     "start_time": "2019-11-12T15:11:05.134Z"
    }
   },
   "source": [
    "maximal relevance for feature 1"
   ]
  },
  {
   "cell_type": "code",
   "execution_count": 12,
   "metadata": {
    "ExecuteTime": {
     "end_time": "2019-11-27T11:04:48.781000+01:00",
     "start_time": "2019-11-27T10:04:48.776Z"
    }
   },
   "outputs": [
    {
     "data": {
      "text/plain": [
       "2.0191922698059965"
      ]
     },
     "execution_count": 12,
     "metadata": {},
     "output_type": "execute_result"
    }
   ],
   "source": [
    "relev_bounds[1,2]"
   ]
  }
 ],
 "metadata": {
  "kernelspec": {
   "display_name": "Julia 1.3.0-rc4",
   "language": "julia",
   "name": "julia-1.3"
  },
  "language_info": {
   "file_extension": ".jl",
   "mimetype": "application/julia",
   "name": "julia",
   "version": "1.3.0"
  }
 },
 "nbformat": 4,
 "nbformat_minor": 2
}
